{
 "metadata": {
  "name": ""
 },
 "nbformat": 3,
 "nbformat_minor": 0,
 "worksheets": [
  {
   "cells": [
    {
     "cell_type": "markdown",
     "metadata": {},
     "source": [
      "Lesser Blast job\n",
      "--\n",
      "\n",
      "I downloaded the bacterial and archea RefSeq datasets into `/mnt/data2/lesser/prok/blastdb` and made a blast database"
     ]
    },
    {
     "cell_type": "code",
     "collapsed": false,
     "input": [
      "cd blastdb\n",
      "wget ftp://ftp.ncbi.nlm.nih.gov/refseq/release/bacteria/bacteria.*.1.genomic.fna.gz\n",
      "gzip -d *gz\n",
      "cat *fna | makeblastdb -in - -out prok -dbtype nucl -title prok"
     ],
     "language": "python",
     "metadata": {},
     "outputs": []
    },
    {
     "cell_type": "code",
     "collapsed": false,
     "input": [
      "%%bash\n",
      "\n",
      "PATH=\"/usr/local/sbin:/usr/local/bin:/usr/sbin:/usr/bin:/sbin:/bin:/share/bin:/share/include:/share/snap/:/share/RepeatMasker:/
share/ma\n",
      "ker/bin/:/share/bwa:\\\n",
      "/share/trinityrnaseq_r20140717:/share/Trimmomatic-0.32:/share/geneid/bin:\\\n",
      "/share/CEGMA_v2/bin/:/share/TransDecoder_r20140704:/share/Fastool:/share/barrnap-0.4.2/bin:\\\n",
      "/share/bcftools:/home/macmanes/omega_new/omegaMap:/share/angsd:/share/tophat-2.0.9.Linux_x86_64:\\\n",
      "/share/cufflinks-2.2.1.Linux_x86_64:/share/samtools:/share/bedtools2/bin:\\\n",
      "/share/RepeatModeler/RepeatModeler:\\\n",
      "$HOME/.rvm/bin:/home/macmanes/.rvm/gems/ruby-2.1.2/bin:\\\n",
      "/home/macmanes/.rvm/gems/ruby-2.1.2@global/bin:\\\n",
      "/home/macmanes/.rvm/rubies/ruby-2.1.2/bin:\\\n",
      "/home/macmanes/bin:/share/bless\"\n",
      "\n",
      "blastn -max_target_seqs 1 -query prok_only_contigs_CF_testN.fasta -db blastdb/prok -evalue 1e-04 -num_threads 25 -outfmt 5 > bac
t_arch.blast5"
     ],
     "language": "python",
     "metadata": {},
     "outputs": [],
     "prompt_number": 6
    },
    {
     "cell_type": "code",
     "collapsed": false,
     "input": [
      "%%bash\n",
      "cd blastdb\n",
      "wget ftp://ftp.ncbi.nlm.nih.gov/refseq/release/invertebrate/inver*genomic.fna.gz\n",
      "gzip -d blastdb/*gz"
     ],
     "language": "python",
     "metadata": {},
     "outputs": [],
     "prompt_number": 7
    },
    {
     "cell_type": "code",
     "collapsed": false,
     "input": [
      "%%bash\n",
      "cd blastdb\n",
      "\n",
      "PATH=\"/usr/local/sbin:/usr/local/bin:/usr/sbin:/usr/bin:/sbin:/bin:/share/bin:/share/include:/share/snap/:/share/RepeatMasker:/
share/ma\n",
      "ker/bin/:/share/bwa:\\\n",
      "/share/trinityrnaseq_r20140717:/share/Trimmomatic-0.32:/share/geneid/bin:\\\n",
      "/share/CEGMA_v2/bin/:/share/TransDecoder_r20140704:/share/Fastool:/share/barrnap-0.4.2/bin:\\\n",
      "/share/bcftools:/home/macmanes/omega_new/omegaMap:/share/angsd:/share/tophat-2.0.9.Linux_x86_64:\\\n",
      "/share/cufflinks-2.2.1.Linux_x86_64:/share/samtools:/share/bedtools2/bin:\\\n",
      "/share/RepeatModeler/RepeatModeler:\\\n",
      "$HOME/.rvm/bin:/home/macmanes/.rvm/gems/ruby-2.1.2/bin:\\\n",
      "/home/macmanes/.rvm/gems/ruby-2.1.2@global/bin:\\\n",
      "/home/macmanes/.rvm/rubies/ruby-2.1.2/bin:\\\n",
      "/home/macmanes/bin:/share/bless\"\n",
      "\n",
      "cat invert*fna | makeblastdb -in - -out invert -dbtype nucl -title invert\n",
      "cd ../"
     ],
     "language": "python",
     "metadata": {},
     "outputs": [
      {
       "output_type": "stream",
       "stream": "stdout",
       "text": [
        "\n",
        "\n",
        "Building a new DB, current time: 08/21/2014 12:24:48\n",
        "New DB name:   invert\n",
        "New DB title:  invert\n",
        "Sequence type: Nucleotide\n",
        "Keep Linkouts: T\n",
        "Keep MBits: T\n",
        "Maximum file size: 1000000000B\n",
        "Adding sequences from FASTA; added 996532 sequences in 668.545 seconds.\n"
       ]
      },
      {
       "output_type": "stream",
       "stream": "stderr",
       "text": [
        "Error: (1431.1) FASTA-Reader: Warning: FASTA-Reader: First data line in seq is about 63% ambiguous nucleotides (shouldn't be o
ver 40%)\n",
        "Error: (1431.1) FASTA-Reader: Warning: FASTA-Reader: First data line in seq is about 52% ambiguous nucleotides (shouldn't be o
ver 40%)\n"
       ]
      }
     ],
     "prompt_number": 9
    },
    {
     "cell_type": "code",
     "collapsed": false,
     "input": [
      "%%bash\n",
      "PATH=\"/usr/local/sbin:/usr/local/bin:/usr/sbin:/usr/bin:/sbin:/bin:/share/bin:/share/include:/share/snap/:/share/RepeatMasker:/
share/ma\n",
      "ker/bin/:/share/bwa:\\\n",
      "/share/trinityrnaseq_r20140717:/share/Trimmomatic-0.32:/share/geneid/bin:\\\n",
      "/share/CEGMA_v2/bin/:/share/TransDecoder_r20140704:/share/Fastool:/share/barrnap-0.4.2/bin:\\\n",
      "/share/bcftools:/home/macmanes/omega_new/omegaMap:/share/angsd:/share/tophat-2.0.9.Linux_x86_64:\\\n",
      "/share/cufflinks-2.2.1.Linux_x86_64:/share/samtools:/share/bedtools2/bin:\\\n",
      "/share/RepeatModeler/RepeatModeler:\\\n",
      "$HOME/.rvm/bin:/home/macmanes/.rvm/gems/ruby-2.1.2/bin:\\\n",
      "/home/macmanes/.rvm/gems/ruby-2.1.2@global/bin:\\\n",
      "/home/macmanes/.rvm/rubies/ruby-2.1.2/bin:\\\n",
      "/home/macmanes/bin:/share/bless\"\n",
      "blastn -max_target_seqs 1 -query prok_only_contigs_CF_testN.fasta -db blastdb/invert -evalue 1e-04 -num_threads 25 -outfmt 5 > i
nvert.blast5"
     ],
     "language": "python",
     "metadata": {},
     "outputs": [],
     "prompt_number": 19
    },
    {
     "cell_type": "code",
     "collapsed": false,
     "input": [
      "head invert.blast5"
     ],
     "language": "python",
     "metadata": {},
     "outputs": [
      {
       "output_type": "stream",
       "stream": "stdout",
       "text": [
        "<?xml version=\"1.0\"?>\r\n",
        "<!DOCTYPE BlastOutput PUBLIC \"-//NCBI//NCBI BlastOutput/EN\" \"http://www.ncbi.nlm.nih.gov/dtd/NCBI_BlastOutput.dtd\">\r\n",
        "<BlastOutput>\r\n",
        "  <BlastOutput_program>blastn</BlastOutput_program>\r\n",
        "  <BlastOutput_version>BLASTN 2.2.29+</BlastOutput_version>\r\n",
        "  <BlastOutput_reference>Zheng Zhang, Scott Schwartz, Lukas Wagner, and Webb Miller (2000), &quot;A greedy algorithm for align
ing DNA sequences&quot;, J Comput Biol 2000; 7(1-2):203-14.</BlastOutput_reference>\r\n",
        "  <BlastOutput_db>blastdb/invert</BlastOutput_db>\r\n",
        "  <BlastOutput_query-ID>Query_1</BlastOutput_query-ID>\r\n",
        "  <BlastOutput_query-def>10009_consensus</BlastOutput_query-def>\r\n",
        "  <BlastOutput_query-len>551</BlastOutput_query-len>\r\n"
       ]
      }
     ],
     "prompt_number": 20
    }
   ],
   "metadata": {}
  }
 ]
}
